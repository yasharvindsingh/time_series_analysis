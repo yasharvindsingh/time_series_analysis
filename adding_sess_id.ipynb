{
 "cells": [
  {
   "cell_type": "markdown",
   "metadata": {},
   "source": [
    "# Creating a Session ID\n",
    "\n",
    "A python script to assign a “Session ID” to every record in the data . A Session is a window of activity from a user & it ends when there is at least 15 mins of inactivity.\n",
    "\n",
    "Libraries:- <br>\n",
    "pandas: for handling structured data, time: to obtain current time.\n",
    "\n",
    "Reading the data into DataFrame using the read_csv function and displaying the first few rows"
   ]
  },
  {
   "cell_type": "code",
   "execution_count": 5,
   "metadata": {
    "collapsed": true
   },
   "outputs": [],
   "source": [
    "import pandas as pd\n",
    "import time"
   ]
  },
  {
   "cell_type": "code",
   "execution_count": 2,
   "metadata": {},
   "outputs": [
    {
     "data": {
      "text/html": [
       "<div>\n",
       "<style>\n",
       "    .dataframe thead tr:only-child th {\n",
       "        text-align: right;\n",
       "    }\n",
       "\n",
       "    .dataframe thead th {\n",
       "        text-align: left;\n",
       "    }\n",
       "\n",
       "    .dataframe tbody tr th {\n",
       "        vertical-align: top;\n",
       "    }\n",
       "</style>\n",
       "<table border=\"1\" class=\"dataframe\">\n",
       "  <thead>\n",
       "    <tr style=\"text-align: right;\">\n",
       "      <th></th>\n",
       "      <th>clicked_epoch</th>\n",
       "      <th>uuid</th>\n",
       "      <th>date</th>\n",
       "      <th>price</th>\n",
       "      <th>product_id</th>\n",
       "      <th>category</th>\n",
       "    </tr>\n",
       "  </thead>\n",
       "  <tbody>\n",
       "    <tr>\n",
       "      <th>0</th>\n",
       "      <td>1.496273e+09</td>\n",
       "      <td>110971</td>\n",
       "      <td>2017-06-01</td>\n",
       "      <td>599.5</td>\n",
       "      <td>122712</td>\n",
       "      <td>kurta &amp; kurtis</td>\n",
       "    </tr>\n",
       "    <tr>\n",
       "      <th>1</th>\n",
       "      <td>1.496273e+09</td>\n",
       "      <td>110971</td>\n",
       "      <td>2017-06-01</td>\n",
       "      <td>599.5</td>\n",
       "      <td>3453</td>\n",
       "      <td>kurta &amp; kurtis</td>\n",
       "    </tr>\n",
       "    <tr>\n",
       "      <th>2</th>\n",
       "      <td>1.496276e+09</td>\n",
       "      <td>49864</td>\n",
       "      <td>2017-06-01</td>\n",
       "      <td>1349.1</td>\n",
       "      <td>13610</td>\n",
       "      <td>jeans</td>\n",
       "    </tr>\n",
       "    <tr>\n",
       "      <th>3</th>\n",
       "      <td>1.496277e+09</td>\n",
       "      <td>49864</td>\n",
       "      <td>2017-06-01</td>\n",
       "      <td>1124.1</td>\n",
       "      <td>48309</td>\n",
       "      <td>jeans</td>\n",
       "    </tr>\n",
       "    <tr>\n",
       "      <th>4</th>\n",
       "      <td>1.496280e+09</td>\n",
       "      <td>21453</td>\n",
       "      <td>2017-06-01</td>\n",
       "      <td>999.0</td>\n",
       "      <td>133239</td>\n",
       "      <td>kurta &amp; kurtis</td>\n",
       "    </tr>\n",
       "  </tbody>\n",
       "</table>\n",
       "</div>"
      ],
      "text/plain": [
       "   clicked_epoch    uuid        date   price  product_id        category\n",
       "0   1.496273e+09  110971  2017-06-01   599.5      122712  kurta & kurtis\n",
       "1   1.496273e+09  110971  2017-06-01   599.5        3453  kurta & kurtis\n",
       "2   1.496276e+09   49864  2017-06-01  1349.1       13610           jeans\n",
       "3   1.496277e+09   49864  2017-06-01  1124.1       48309           jeans\n",
       "4   1.496280e+09   21453  2017-06-01   999.0      133239  kurta & kurtis"
      ]
     },
     "execution_count": 2,
     "metadata": {},
     "output_type": "execute_result"
    }
   ],
   "source": [
    "df = pd.read_csv(\"clickStream.csv\")\n",
    "df.head()"
   ]
  },
  {
   "cell_type": "code",
   "execution_count": 8,
   "metadata": {},
   "outputs": [
    {
     "data": {
      "text/html": [
       "<div>\n",
       "<style>\n",
       "    .dataframe thead tr:only-child th {\n",
       "        text-align: right;\n",
       "    }\n",
       "\n",
       "    .dataframe thead th {\n",
       "        text-align: left;\n",
       "    }\n",
       "\n",
       "    .dataframe tbody tr th {\n",
       "        vertical-align: top;\n",
       "    }\n",
       "</style>\n",
       "<table border=\"1\" class=\"dataframe\">\n",
       "  <thead>\n",
       "    <tr style=\"text-align: right;\">\n",
       "      <th></th>\n",
       "      <th>clicked_epoch</th>\n",
       "      <th>uuid</th>\n",
       "      <th>price</th>\n",
       "      <th>product_id</th>\n",
       "    </tr>\n",
       "  </thead>\n",
       "  <tbody>\n",
       "    <tr>\n",
       "      <th>count</th>\n",
       "      <td>4.139130e+05</td>\n",
       "      <td>413913.000000</td>\n",
       "      <td>413913.000000</td>\n",
       "      <td>413913.000000</td>\n",
       "    </tr>\n",
       "    <tr>\n",
       "      <th>mean</th>\n",
       "      <td>1.525372e+09</td>\n",
       "      <td>74061.149710</td>\n",
       "      <td>2142.091122</td>\n",
       "      <td>87214.981491</td>\n",
       "    </tr>\n",
       "    <tr>\n",
       "      <th>std</th>\n",
       "      <td>1.411330e+07</td>\n",
       "      <td>42856.196584</td>\n",
       "      <td>4826.469276</td>\n",
       "      <td>50157.359102</td>\n",
       "    </tr>\n",
       "    <tr>\n",
       "      <th>min</th>\n",
       "      <td>1.496273e+09</td>\n",
       "      <td>1.000000</td>\n",
       "      <td>-1.000000</td>\n",
       "      <td>1.000000</td>\n",
       "    </tr>\n",
       "    <tr>\n",
       "      <th>25%</th>\n",
       "      <td>1.514964e+09</td>\n",
       "      <td>37209.000000</td>\n",
       "      <td>517.650000</td>\n",
       "      <td>43913.000000</td>\n",
       "    </tr>\n",
       "    <tr>\n",
       "      <th>50%</th>\n",
       "      <td>1.528033e+09</td>\n",
       "      <td>73523.000000</td>\n",
       "      <td>879.600000</td>\n",
       "      <td>87694.000000</td>\n",
       "    </tr>\n",
       "    <tr>\n",
       "      <th>75%</th>\n",
       "      <td>1.536505e+09</td>\n",
       "      <td>111149.000000</td>\n",
       "      <td>1468.000000</td>\n",
       "      <td>131285.000000</td>\n",
       "    </tr>\n",
       "    <tr>\n",
       "      <th>max</th>\n",
       "      <td>1.547684e+09</td>\n",
       "      <td>148649.000000</td>\n",
       "      <td>250000.000000</td>\n",
       "      <td>173030.000000</td>\n",
       "    </tr>\n",
       "  </tbody>\n",
       "</table>\n",
       "</div>"
      ],
      "text/plain": [
       "       clicked_epoch           uuid          price     product_id\n",
       "count   4.139130e+05  413913.000000  413913.000000  413913.000000\n",
       "mean    1.525372e+09   74061.149710    2142.091122   87214.981491\n",
       "std     1.411330e+07   42856.196584    4826.469276   50157.359102\n",
       "min     1.496273e+09       1.000000      -1.000000       1.000000\n",
       "25%     1.514964e+09   37209.000000     517.650000   43913.000000\n",
       "50%     1.528033e+09   73523.000000     879.600000   87694.000000\n",
       "75%     1.536505e+09  111149.000000    1468.000000  131285.000000\n",
       "max     1.547684e+09  148649.000000  250000.000000  173030.000000"
      ]
     },
     "execution_count": 8,
     "metadata": {},
     "output_type": "execute_result"
    }
   ],
   "source": [
    "df.describe()"
   ]
  },
  {
   "cell_type": "code",
   "execution_count": 3,
   "metadata": {},
   "outputs": [
    {
     "data": {
      "text/plain": [
       "clicked_epoch    0\n",
       "uuid             0\n",
       "date             0\n",
       "price            0\n",
       "product_id       0\n",
       "category         0\n",
       "dtype: int64"
      ]
     },
     "execution_count": 3,
     "metadata": {},
     "output_type": "execute_result"
    }
   ],
   "source": [
    "df.isnull().sum() # Checking for null values in the data."
   ]
  },
  {
   "cell_type": "markdown",
   "metadata": {},
   "source": [
    "Sorting the DataFrame according to the \"clicked_epoch\" just to ensure data is in sequential order."
   ]
  },
  {
   "cell_type": "code",
   "execution_count": 4,
   "metadata": {},
   "outputs": [
    {
     "data": {
      "text/html": [
       "<div>\n",
       "<style>\n",
       "    .dataframe thead tr:only-child th {\n",
       "        text-align: right;\n",
       "    }\n",
       "\n",
       "    .dataframe thead th {\n",
       "        text-align: left;\n",
       "    }\n",
       "\n",
       "    .dataframe tbody tr th {\n",
       "        vertical-align: top;\n",
       "    }\n",
       "</style>\n",
       "<table border=\"1\" class=\"dataframe\">\n",
       "  <thead>\n",
       "    <tr style=\"text-align: right;\">\n",
       "      <th></th>\n",
       "      <th>clicked_epoch</th>\n",
       "      <th>uuid</th>\n",
       "      <th>date</th>\n",
       "      <th>price</th>\n",
       "      <th>product_id</th>\n",
       "      <th>category</th>\n",
       "    </tr>\n",
       "  </thead>\n",
       "  <tbody>\n",
       "    <tr>\n",
       "      <th>0</th>\n",
       "      <td>1.496273e+09</td>\n",
       "      <td>110971</td>\n",
       "      <td>2017-06-01</td>\n",
       "      <td>599.5</td>\n",
       "      <td>122712</td>\n",
       "      <td>kurta &amp; kurtis</td>\n",
       "    </tr>\n",
       "    <tr>\n",
       "      <th>1</th>\n",
       "      <td>1.496273e+09</td>\n",
       "      <td>110971</td>\n",
       "      <td>2017-06-01</td>\n",
       "      <td>599.5</td>\n",
       "      <td>3453</td>\n",
       "      <td>kurta &amp; kurtis</td>\n",
       "    </tr>\n",
       "    <tr>\n",
       "      <th>2</th>\n",
       "      <td>1.496276e+09</td>\n",
       "      <td>49864</td>\n",
       "      <td>2017-06-01</td>\n",
       "      <td>1349.1</td>\n",
       "      <td>13610</td>\n",
       "      <td>jeans</td>\n",
       "    </tr>\n",
       "    <tr>\n",
       "      <th>3</th>\n",
       "      <td>1.496277e+09</td>\n",
       "      <td>49864</td>\n",
       "      <td>2017-06-01</td>\n",
       "      <td>1124.1</td>\n",
       "      <td>48309</td>\n",
       "      <td>jeans</td>\n",
       "    </tr>\n",
       "    <tr>\n",
       "      <th>4</th>\n",
       "      <td>1.496280e+09</td>\n",
       "      <td>21453</td>\n",
       "      <td>2017-06-01</td>\n",
       "      <td>999.0</td>\n",
       "      <td>133239</td>\n",
       "      <td>kurta &amp; kurtis</td>\n",
       "    </tr>\n",
       "  </tbody>\n",
       "</table>\n",
       "</div>"
      ],
      "text/plain": [
       "   clicked_epoch    uuid        date   price  product_id        category\n",
       "0   1.496273e+09  110971  2017-06-01   599.5      122712  kurta & kurtis\n",
       "1   1.496273e+09  110971  2017-06-01   599.5        3453  kurta & kurtis\n",
       "2   1.496276e+09   49864  2017-06-01  1349.1       13610           jeans\n",
       "3   1.496277e+09   49864  2017-06-01  1124.1       48309           jeans\n",
       "4   1.496280e+09   21453  2017-06-01   999.0      133239  kurta & kurtis"
      ]
     },
     "execution_count": 4,
     "metadata": {},
     "output_type": "execute_result"
    }
   ],
   "source": [
    "df = df.sort_values([\"clicked_epoch\"])\n",
    "df.head()"
   ]
  },
  {
   "cell_type": "markdown",
   "metadata": {},
   "source": [
    "#### Calculating the Session ID\n",
    "\n",
    "sess_id_list: is a list which will contain the \"Session ID\" for every record.\n",
    "\n",
    "We use two loops to iterate over the records, the sess_id for each row is 0 initially indicating no id has been asssigned to this record. if the id is 0, we assign it an id i.e starting from sess_id = 1, and then iterate over the rest of records to look for a record with same uuid and is within the span of 15 mins, assign the same sess_id to the record.\n",
    "After the finishing the inner loop we increase the sess_id and repeat the process again.\n",
    "\n",
    "Average time for execution of the cell below is approximately 4 mins."
   ]
  },
  {
   "cell_type": "code",
   "execution_count": 7,
   "metadata": {},
   "outputs": [
    {
     "name": "stdout",
     "output_type": "stream",
     "text": [
      "Time taken in secs:  231.35193848609924\n"
     ]
    }
   ],
   "source": [
    "sess_id_list = [0] * len(df)\n",
    "sess_id = 1\n",
    "st = time.time()\n",
    "for i in range(len(df)):\n",
    "    if sess_id_list[i] == 0:\n",
    "        temp_i = i\n",
    "        sess_id_list[i] = sess_id\n",
    "        for j in range(i+1, len(df)):\n",
    "            if df.iloc[j,0] <= (df.iloc[temp_i,0] + 15*60):\n",
    "                if df.iloc[temp_i,1] == df.iloc[j,1]:\n",
    "                    sess_id_list[j] = sess_id\n",
    "                    temp_i = j\n",
    "            else:\n",
    "                break\n",
    "        sess_id+=1\n",
    "print(\"Time taken in secs: \",time.time()-st)"
   ]
  },
  {
   "cell_type": "code",
   "execution_count": 9,
   "metadata": {},
   "outputs": [
    {
     "data": {
      "text/plain": [
       "413913"
      ]
     },
     "execution_count": 9,
     "metadata": {},
     "output_type": "execute_result"
    }
   ],
   "source": [
    "len(sess_id_list)"
   ]
  },
  {
   "cell_type": "code",
   "execution_count": 10,
   "metadata": {
    "collapsed": true
   },
   "outputs": [],
   "source": [
    "df[\"session_id\"] = sess_id_list\n",
    "df.to_csv(\"clickStream_session_id.csv\")"
   ]
  },
  {
   "cell_type": "code",
   "execution_count": null,
   "metadata": {
    "collapsed": true
   },
   "outputs": [],
   "source": []
  }
 ],
 "metadata": {
  "kernelspec": {
   "display_name": "Python 3",
   "language": "python",
   "name": "python3"
  },
  "language_info": {
   "codemirror_mode": {
    "name": "ipython",
    "version": 3
   },
   "file_extension": ".py",
   "mimetype": "text/x-python",
   "name": "python",
   "nbconvert_exporter": "python",
   "pygments_lexer": "ipython3",
   "version": "3.5.2"
  }
 },
 "nbformat": 4,
 "nbformat_minor": 2
}
